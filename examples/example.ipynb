{
 "cells": [
  {
   "cell_type": "code",
   "execution_count": 1,
   "metadata": {},
   "outputs": [],
   "source": [
    "from geokube import CoordinateSystem, Geodetic, axis, units, Grid, GridField"
   ]
  },
  {
   "cell_type": "code",
   "execution_count": 2,
   "metadata": {},
   "outputs": [],
   "source": [
    "cs = CoordinateSystem(horizontal=Geodetic())"
   ]
  },
  {
   "cell_type": "code",
   "execution_count": 4,
   "metadata": {},
   "outputs": [
    {
     "data": {
      "text/plain": [
       "(Latitude(units='degrees_east', dtype='float64', encoding={}),\n",
       " Longitude(units='degrees_north', dtype='float64', encoding={}))"
      ]
     },
     "execution_count": 4,
     "metadata": {},
     "output_type": "execute_result"
    }
   ],
   "source": [
    "cs.dim_axes"
   ]
  },
  {
   "cell_type": "code",
   "execution_count": 5,
   "metadata": {},
   "outputs": [],
   "source": [
    "grid = Grid(\n",
    "    coords = {\n",
    "    axis.latitude: [20, 30, 40],\n",
    "    axis.longitude: [-10, 0, 10 ]\n",
    "    },\n",
    "    coord_system=cs\n",
    ")"
   ]
  },
  {
   "cell_type": "code",
   "execution_count": 7,
   "metadata": {},
   "outputs": [
    {
     "ename": "ValueError",
     "evalue": "dictionary update sequence element #0 has length 11; 2 is required",
     "output_type": "error",
     "traceback": [
      "\u001b[0;31m---------------------------------------------------------------------------\u001b[0m",
      "\u001b[0;31mValueError\u001b[0m                                Traceback (most recent call last)",
      "\u001b[1;32m/Users/marco/Development/geolake/geokube_0.3a1/examples/example.ipynb Cell 5\u001b[0m line \u001b[0;36m1\n\u001b[0;32m----> <a href='vscode-notebook-cell:/Users/marco/Development/geolake/geokube_0.3a1/examples/example.ipynb#W4sZmlsZQ%3D%3D?line=0'>1</a>\u001b[0m temp \u001b[39m=\u001b[39m GridField(name\u001b[39m=\u001b[39;49m\u001b[39m'\u001b[39;49m\u001b[39mtemperature\u001b[39;49m\u001b[39m'\u001b[39;49m, data\u001b[39m=\u001b[39;49m[[\u001b[39m22\u001b[39;49m, \u001b[39m23\u001b[39;49m, \u001b[39m24\u001b[39;49m], [\u001b[39m23\u001b[39;49m, \u001b[39m23\u001b[39;49m, \u001b[39m23\u001b[39;49m], [\u001b[39m24\u001b[39;49m, \u001b[39m23\u001b[39;49m, \u001b[39m22\u001b[39;49m]] \u001b[39m*\u001b[39;49m units\u001b[39m.\u001b[39;49mdegree_Celsius, \n\u001b[1;32m      <a href='vscode-notebook-cell:/Users/marco/Development/geolake/geokube_0.3a1/examples/example.ipynb#W4sZmlsZQ%3D%3D?line=1'>2</a>\u001b[0m                  domain\u001b[39m=\u001b[39;49mgrid, \n\u001b[1;32m      <a href='vscode-notebook-cell:/Users/marco/Development/geolake/geokube_0.3a1/examples/example.ipynb#W4sZmlsZQ%3D%3D?line=2'>3</a>\u001b[0m                  properties\u001b[39m=\u001b[39;49m{\u001b[39m'\u001b[39;49m\u001b[39mdescription\u001b[39;49m\u001b[39m'\u001b[39;49m, \u001b[39m'\u001b[39;49m\u001b[39mthis is a test\u001b[39;49m\u001b[39m'\u001b[39;49m}, \n\u001b[1;32m      <a href='vscode-notebook-cell:/Users/marco/Development/geolake/geokube_0.3a1/examples/example.ipynb#W4sZmlsZQ%3D%3D?line=3'>4</a>\u001b[0m                  encoding\u001b[39m=\u001b[39;49m{\u001b[39m'\u001b[39;49m\u001b[39mdtype\u001b[39;49m\u001b[39m'\u001b[39;49m:\u001b[39m'\u001b[39;49m\u001b[39mfloat64\u001b[39;49m\u001b[39m'\u001b[39;49m})\n",
      "File \u001b[0;32m~/Development/geolake/geokube_0.3a1/geokube/core/field.py:496\u001b[0m, in \u001b[0;36mGridField.__init__\u001b[0;34m(self, name, domain, data, dim_axes, ancillary, properties, encoding)\u001b[0m\n\u001b[1;32m    494\u001b[0m data_vars \u001b[39m=\u001b[39m {}\n\u001b[1;32m    495\u001b[0m attrs \u001b[39m=\u001b[39m properties \u001b[39mif\u001b[39;00m \u001b[39mnot\u001b[39;00m \u001b[39mNone\u001b[39;00m \u001b[39melse\u001b[39;00m {}\n\u001b[0;32m--> 496\u001b[0m data_vars[name] \u001b[39m=\u001b[39m xr\u001b[39m.\u001b[39;49mDataArray(data\u001b[39m=\u001b[39;49mdata_, dims\u001b[39m=\u001b[39;49m\u001b[39mself\u001b[39;49m\u001b[39m.\u001b[39;49m_DIMS_, attrs\u001b[39m=\u001b[39;49mattrs)\n\u001b[1;32m    497\u001b[0m data_vars[name]\u001b[39m.\u001b[39mencoding \u001b[39m=\u001b[39m encoding \u001b[39mif\u001b[39;00m \u001b[39mnot\u001b[39;00m \u001b[39mNone\u001b[39;00m \u001b[39melse\u001b[39;00m {} \u001b[39m# This is not working!!!\u001b[39;00m\n\u001b[1;32m    499\u001b[0m \u001b[39mif\u001b[39;00m ancillary \u001b[39mis\u001b[39;00m \u001b[39mnot\u001b[39;00m \u001b[39mNone\u001b[39;00m:\n",
      "File \u001b[0;32m~/miniforge3/envs/geokube/lib/python3.11/site-packages/xarray/core/dataarray.py:449\u001b[0m, in \u001b[0;36mDataArray.__init__\u001b[0;34m(self, data, coords, dims, name, attrs, indexes, fastpath)\u001b[0m\n\u001b[1;32m    447\u001b[0m data \u001b[39m=\u001b[39m as_compatible_data(data)\n\u001b[1;32m    448\u001b[0m coords, dims \u001b[39m=\u001b[39m _infer_coords_and_dims(data\u001b[39m.\u001b[39mshape, coords, dims)\n\u001b[0;32m--> 449\u001b[0m variable \u001b[39m=\u001b[39m Variable(dims, data, attrs, fastpath\u001b[39m=\u001b[39;49m\u001b[39mTrue\u001b[39;49;00m)\n\u001b[1;32m    451\u001b[0m \u001b[39mif\u001b[39;00m \u001b[39mnot\u001b[39;00m \u001b[39misinstance\u001b[39m(coords, Coordinates):\n\u001b[1;32m    452\u001b[0m     coords \u001b[39m=\u001b[39m create_coords_with_default_indexes(coords)\n",
      "File \u001b[0;32m~/miniforge3/envs/geokube/lib/python3.11/site-packages/xarray/core/variable.py:373\u001b[0m, in \u001b[0;36mVariable.__init__\u001b[0;34m(self, dims, data, attrs, encoding, fastpath)\u001b[0m\n\u001b[1;32m    371\u001b[0m \u001b[39mself\u001b[39m\u001b[39m.\u001b[39m_encoding \u001b[39m=\u001b[39m \u001b[39mNone\u001b[39;00m\n\u001b[1;32m    372\u001b[0m \u001b[39mif\u001b[39;00m attrs \u001b[39mis\u001b[39;00m \u001b[39mnot\u001b[39;00m \u001b[39mNone\u001b[39;00m:\n\u001b[0;32m--> 373\u001b[0m     \u001b[39mself\u001b[39;49m\u001b[39m.\u001b[39;49mattrs \u001b[39m=\u001b[39m attrs\n\u001b[1;32m    374\u001b[0m \u001b[39mif\u001b[39;00m encoding \u001b[39mis\u001b[39;00m \u001b[39mnot\u001b[39;00m \u001b[39mNone\u001b[39;00m:\n\u001b[1;32m    375\u001b[0m     \u001b[39mself\u001b[39m\u001b[39m.\u001b[39mencoding \u001b[39m=\u001b[39m encoding\n",
      "File \u001b[0;32m~/miniforge3/envs/geokube/lib/python3.11/site-packages/xarray/core/variable.py:988\u001b[0m, in \u001b[0;36mVariable.attrs\u001b[0;34m(self, value)\u001b[0m\n\u001b[1;32m    986\u001b[0m \u001b[39m@attrs\u001b[39m\u001b[39m.\u001b[39msetter\n\u001b[1;32m    987\u001b[0m \u001b[39mdef\u001b[39;00m \u001b[39mattrs\u001b[39m(\u001b[39mself\u001b[39m, value: Mapping[Any, Any]) \u001b[39m-\u001b[39m\u001b[39m>\u001b[39m \u001b[39mNone\u001b[39;00m:\n\u001b[0;32m--> 988\u001b[0m     \u001b[39mself\u001b[39m\u001b[39m.\u001b[39m_attrs \u001b[39m=\u001b[39m \u001b[39mdict\u001b[39;49m(value)\n",
      "\u001b[0;31mValueError\u001b[0m: dictionary update sequence element #0 has length 11; 2 is required"
     ]
    }
   ],
   "source": [
    "temp = GridField(name='temperature', data=[[22, 23, 24], [23, 23, 23], [24, 23, 22]] * units.degree_Celsius, \n",
    "                 domain=grid, \n",
    "                 properties={'description', 'this is a test'}, \n",
    "                 encoding={'dtype':'float64'})"
   ]
  },
  {
   "cell_type": "code",
   "execution_count": null,
   "metadata": {},
   "outputs": [],
   "source": []
  }
 ],
 "metadata": {
  "kernelspec": {
   "display_name": "geokube",
   "language": "python",
   "name": "python3"
  },
  "language_info": {
   "codemirror_mode": {
    "name": "ipython",
    "version": 3
   },
   "file_extension": ".py",
   "mimetype": "text/x-python",
   "name": "python",
   "nbconvert_exporter": "python",
   "pygments_lexer": "ipython3",
   "version": "3.11.6"
  }
 },
 "nbformat": 4,
 "nbformat_minor": 2
}
