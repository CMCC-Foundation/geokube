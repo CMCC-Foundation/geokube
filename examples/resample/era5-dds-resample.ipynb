{
 "cells": [
  {
   "cell_type": "markdown",
   "id": "f0df1dc3-e8f5-4657-8f2e-2c280da36ca9",
   "metadata": {},
   "source": [
    "# DDS API Examples for ERA5 Data"
   ]
  },
  {
   "cell_type": "code",
   "execution_count": null,
   "id": "b33dcfc3-5cae-470b-9cd2-8757d017e795",
   "metadata": {},
   "outputs": [],
   "source": [
    "from ddsapi import Client"
   ]
  },
  {
   "cell_type": "code",
   "execution_count": null,
   "id": "b23eb614-a411-4109-90ab-55e83d6c3cbb",
   "metadata": {},
   "outputs": [],
   "source": [
    "dataset = 'era5-single-levels'"
   ]
  },
  {
   "cell_type": "markdown",
   "id": "96b0d719-e5ab-4a59-bad7-3cbc54f2a13b",
   "metadata": {},
   "source": [
    "## Spatial and Temporal Subsetting\n",
    "\n",
    "**Spatial subsetting** can be done as:\n",
    "\n",
    "* **Rectangular area** with the argument `area`\n",
    "* **Single point** with the argument `location`\n",
    "\n",
    "**Temporal Subsetting** can be done with the argument `time` as:\n",
    "\n",
    "* **Cartesian product** of given years, months, days, hours, etc.\n",
    "* **Interval** between predefined `start` and `stop` values"
   ]
  },
  {
   "cell_type": "code",
   "execution_count": null,
   "id": "2484a2d0-9988-4f7b-b145-62557d4ecc98",
   "metadata": {},
   "outputs": [],
   "source": [
    "request = {\n",
    "    'product_type': 'reanalysis',\n",
    "    'variable': '2_metre_temperature',\n",
    "    'area': {'north': 42, 'south': 39, 'west': 17, 'east': 19},\n",
    "    'time': {'year': ['2019', '2020'], 'month': '1', 'day': '1', 'hour': '6'},\n",
    "    'format': 'netcdf'\n",
    "}\n",
    "\n",
    "datacube = Client(quiet=True).retrieve(dataset, request)"
   ]
  },
  {
   "cell_type": "code",
   "execution_count": null,
   "id": "2d2ff5e9-af9f-4f94-8400-fa3e50572998",
   "metadata": {},
   "outputs": [],
   "source": [
    "temperature = datacube['2_metre_temperature']\n",
    "temperature"
   ]
  },
  {
   "cell_type": "code",
   "execution_count": null,
   "id": "5989deca-e696-4269-b55e-53904a660689",
   "metadata": {},
   "outputs": [],
   "source": [
    "temperature.plot()"
   ]
  },
  {
   "cell_type": "code",
   "execution_count": null,
   "id": "715ceda4-d136-4d2d-87b4-a5125cac4b0f",
   "metadata": {},
   "outputs": [],
   "source": [
    "request = {\n",
    "    'product_type': 'reanalysis',\n",
    "    'variable': '2_metre_temperature',\n",
    "    'location': {'latitude': 41.9, 'longitude': 12.5},\n",
    "    'time': {'start': '2020-01-01T00', 'stop': '2020-01-02T23'},\n",
    "    'format': 'netcdf'\n",
    "}\n",
    "\n",
    "datacube = Client(quiet=True).retrieve(dataset, request)"
   ]
  },
  {
   "cell_type": "code",
   "execution_count": null,
   "id": "26137e70-cf4d-4586-b27b-d8a8e8fc9c48",
   "metadata": {},
   "outputs": [],
   "source": [
    "temperature = datacube['2_metre_temperature']\n",
    "temperature"
   ]
  },
  {
   "cell_type": "code",
   "execution_count": null,
   "id": "9012d5a5-aa5f-4f27-b165-a9a84f7ea79a",
   "metadata": {},
   "outputs": [],
   "source": [
    "temperature.values"
   ]
  },
  {
   "cell_type": "markdown",
   "id": "23207c52-b7be-4f82-91e9-c8534ee0ab50",
   "metadata": {},
   "source": [
    "## Resampling"
   ]
  },
  {
   "cell_type": "markdown",
   "id": "fdaacf37-f672-46b6-bdae-90363c9a3693",
   "metadata": {},
   "source": [
    "### Instantaneous Variables\n",
    "\n",
    "It is possible e.g. to specify just the days for daily resample.\n",
    "\n",
    "Here, we use the 2 m temperature:"
   ]
  },
  {
   "cell_type": "code",
   "execution_count": null,
   "id": "f6bb1a12-b0fb-4b44-bcbe-75bfe873bebd",
   "metadata": {},
   "outputs": [],
   "source": [
    "request = {\n",
    "    'product_type': 'reanalysis',\n",
    "    'variable': '2_metre_temperature',\n",
    "    'area': {'north': 70, 'south': 30, 'west': -25.5, 'east': 45},\n",
    "    'time': {'start': '2010-01-01', 'stop': '2010-01-02'},\n",
    "    'resample': {'operator': 'mean', 'frequency': '1D'},\n",
    "    'format': 'netcdf'\n",
    "}\n",
    "\n",
    "datacube = Client(quiet=True).retrieve(dataset, request)"
   ]
  },
  {
   "cell_type": "code",
   "execution_count": null,
   "id": "36a10c01-cb1e-4417-bf35-933b7d101b2c",
   "metadata": {},
   "outputs": [],
   "source": [
    "temperature = datacube['2_metre_temperature']"
   ]
  },
  {
   "cell_type": "code",
   "execution_count": null,
   "id": "2cf9e4e0-90dc-4ed6-87b2-c7a54ac04aed",
   "metadata": {},
   "outputs": [],
   "source": [
    "temperature.domain.coordinate('time')"
   ]
  },
  {
   "cell_type": "code",
   "execution_count": null,
   "id": "845e6848-d6a6-4834-a4bd-9cb83b1d6781",
   "metadata": {},
   "outputs": [],
   "source": [
    "temperature.plot()"
   ]
  },
  {
   "cell_type": "markdown",
   "id": "9bc3fe11-9d3e-45ff-9a64-b6fd0db0f519",
   "metadata": {},
   "source": [
    "### Cummulative Variables\n",
    "\n",
    "It is also possible to resample cummulative variables.\n",
    "\n",
    "For example, the value of precipitation is related to the previous hour. This means that the midnight of the next day should represent the cumulative value for the previous day. We can do that:"
   ]
  },
  {
   "cell_type": "code",
   "execution_count": null,
   "id": "24f84e25-f529-42c9-9537-3e3e7dc20fba",
   "metadata": {},
   "outputs": [],
   "source": [
    "request = {\n",
    "    'product_type': 'reanalysis',\n",
    "    'variable': 'total_precipitation',\n",
    "    'area': {'north': 70, 'south': 30, 'west': -25.5, 'east': 45},\n",
    "    'time': {'start': '2010-01-01T01:00', 'stop': '2010-01-03T00:00'},\n",
    "    'resample': {'operator': 'sum', 'frequency': '1D', 'closed': 'right'},\n",
    "    'format': 'netcdf'\n",
    "}\n",
    "\n",
    "datacube = Client(quiet=True).retrieve(dataset, request)"
   ]
  },
  {
   "cell_type": "code",
   "execution_count": null,
   "id": "40ec27cd-a29e-4dcf-97ff-e45d4ab6f119",
   "metadata": {},
   "outputs": [],
   "source": [
    "precipitation = datacube['total_precipitation']\n",
    "precipitation"
   ]
  },
  {
   "cell_type": "code",
   "execution_count": null,
   "id": "88030adf-e3ff-4994-816b-6bdf71cd9f08",
   "metadata": {},
   "outputs": [],
   "source": [
    "precipitation.domain.coordinate('time')"
   ]
  },
  {
   "cell_type": "code",
   "execution_count": null,
   "id": "b5a8b8e7-083f-4f94-b380-8b5c7126e81e",
   "metadata": {},
   "outputs": [],
   "source": [
    "precipitation.plot()"
   ]
  },
  {
   "cell_type": "code",
   "execution_count": null,
   "id": "da0c3998-71a6-4c2e-91b6-8d103d4f2b6e",
   "metadata": {},
   "outputs": [],
   "source": [
    "precipitation.plot(robust=True)"
   ]
  },
  {
   "cell_type": "code",
   "execution_count": null,
   "id": "9ee0bc6b-7974-4b31-8999-c0bba5dc52ec",
   "metadata": {},
   "outputs": [],
   "source": [
    "precipitation.plot(features=['coastline'], robust=True)"
   ]
  },
  {
   "cell_type": "code",
   "execution_count": null,
   "id": "05557e12-963c-457a-b5f3-59e9e3ecd261",
   "metadata": {},
   "outputs": [],
   "source": []
  }
 ],
 "metadata": {
  "kernelspec": {
   "display_name": "Python 3 (ipykernel)",
   "language": "python",
   "name": "python3"
  },
  "language_info": {
   "codemirror_mode": {
    "name": "ipython",
    "version": 3
   },
   "file_extension": ".py",
   "mimetype": "text/x-python",
   "name": "python",
   "nbconvert_exporter": "python",
   "pygments_lexer": "ipython3",
   "version": "3.8.11"
  }
 },
 "nbformat": 4,
 "nbformat_minor": 5
}
