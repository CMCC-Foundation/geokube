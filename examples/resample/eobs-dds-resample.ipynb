{
 "cells": [
  {
   "cell_type": "markdown",
   "id": "f0df1dc3-e8f5-4657-8f2e-2c280da36ca9",
   "metadata": {},
   "source": [
    "# DDS API Examples for E-OBS Data"
   ]
  },
  {
   "cell_type": "code",
   "execution_count": null,
   "id": "b33dcfc3-5cae-470b-9cd2-8757d017e795",
   "metadata": {},
   "outputs": [],
   "source": [
    "from ddsapi import Client"
   ]
  },
  {
   "cell_type": "code",
   "execution_count": null,
   "id": "728af256-a957-4374-9194-7722f336fd44",
   "metadata": {},
   "outputs": [],
   "source": [
    "dataset = 'e-obs'"
   ]
  },
  {
   "cell_type": "markdown",
   "id": "96b0d719-e5ab-4a59-bad7-3cbc54f2a13b",
   "metadata": {},
   "source": [
    "## Spatial and Temporal Subsetting\n",
    "\n",
    "**Spatial subsetting** can be done as:\n",
    "\n",
    "* **Rectangular area** with the argument `area`\n",
    "* **Single point** with the argument `location`\n",
    "\n",
    "**Temporal Subsetting** can be done with the argument `time` as:\n",
    "\n",
    "* **Cartesian product** of given years, months, days, hours, etc.\n",
    "* **Interval** between predefined `start` and `stop` values"
   ]
  },
  {
   "cell_type": "code",
   "execution_count": null,
   "id": "2484a2d0-9988-4f7b-b145-62557d4ecc98",
   "metadata": {},
   "outputs": [],
   "source": [
    "request = {\n",
    "    'product_type': 'ensemble-mean',\n",
    "    'variable': 'mean_air_temperature',\n",
    "    'area': {'north': 48, 'south': 35, 'east': 20, 'west': 2},\n",
    "    'time': {'year': [2018, 2019], 'month': 1, 'day': 1},\n",
    "    'resolution': '0.25',\n",
    "    'version': 'v20.0e',\n",
    "    'format': 'netcdf'\n",
    "}"
   ]
  },
  {
   "cell_type": "code",
   "execution_count": null,
   "id": "4f80cf29-f533-4965-ab33-80ce72ae6695",
   "metadata": {},
   "outputs": [],
   "source": [
    "datacube = Client(quiet=True).retrieve(dataset, request)"
   ]
  },
  {
   "cell_type": "code",
   "execution_count": null,
   "id": "2d2ff5e9-af9f-4f94-8400-fa3e50572998",
   "metadata": {},
   "outputs": [],
   "source": [
    "temperature = datacube['mean_air_temperature']\n",
    "temperature.to_dict()"
   ]
  },
  {
   "cell_type": "code",
   "execution_count": null,
   "id": "bd6f97e0-25c6-4837-b272-072fcea103e7",
   "metadata": {},
   "outputs": [],
   "source": [
    "temperature.plot()"
   ]
  },
  {
   "cell_type": "code",
   "execution_count": null,
   "id": "715ceda4-d136-4d2d-87b4-a5125cac4b0f",
   "metadata": {},
   "outputs": [],
   "source": [
    "request = {\n",
    "    'product_type': 'ensemble-mean',\n",
    "    'variable': 'mean_air_temperature',\n",
    "    'location': {'latitude': 40.35, 'longitude': 17.95},\n",
    "    'time': {'start': '2018-01-01', 'stop': '2018-01-31'},\n",
    "    'resolution': '0.25',\n",
    "    'version': 'v20.0e',\n",
    "    'format': 'netcdf'\n",
    "}\n",
    "\n",
    "datacube = Client(quiet=True).retrieve(dataset, request)"
   ]
  },
  {
   "cell_type": "code",
   "execution_count": null,
   "id": "f1b1974d-7c55-4609-bedf-273ed51e9b5c",
   "metadata": {},
   "outputs": [],
   "source": [
    "temperature = datacube['mean_air_temperature']\n",
    "temperature.to_dict()"
   ]
  },
  {
   "cell_type": "code",
   "execution_count": null,
   "id": "2840b572-bd29-444c-9138-160f86dd7927",
   "metadata": {},
   "outputs": [],
   "source": [
    "temperature.plot()"
   ]
  },
  {
   "cell_type": "markdown",
   "id": "23207c52-b7be-4f82-91e9-c8534ee0ab50",
   "metadata": {},
   "source": [
    "## Resampling"
   ]
  },
  {
   "cell_type": "markdown",
   "id": "fdaacf37-f672-46b6-bdae-90363c9a3693",
   "metadata": {},
   "source": [
    "### Instantaneous Variables\n",
    "\n",
    "It is possible e.g. to specify just the months for monthly resample.\n",
    "\n",
    "Here, we use the air mean temperature:"
   ]
  },
  {
   "cell_type": "code",
   "execution_count": null,
   "id": "f6bb1a12-b0fb-4b44-bcbe-75bfe873bebd",
   "metadata": {},
   "outputs": [],
   "source": [
    "request = {\n",
    "    'product_type': 'ensemble-mean',\n",
    "    'variable': 'mean_air_temperature',\n",
    "    'area': {'north': 48, 'south': 35, 'east': 20, 'west': 2},\n",
    "    'time': {'start': '2018-01-01', 'stop': '2018-03-31'},\n",
    "    'resample': {'operator': 'mean', 'frequency': '1M'},\n",
    "    'resolution': '0.25',\n",
    "    'version': 'v20.0e',\n",
    "    'format': 'netcdf'\n",
    "}"
   ]
  },
  {
   "cell_type": "code",
   "execution_count": null,
   "id": "94c96de7-de41-48fb-9399-849558db3d60",
   "metadata": {},
   "outputs": [],
   "source": [
    "datacube = Client(quiet=True).retrieve(dataset, request)"
   ]
  },
  {
   "cell_type": "code",
   "execution_count": null,
   "id": "36a10c01-cb1e-4417-bf35-933b7d101b2c",
   "metadata": {},
   "outputs": [],
   "source": [
    "temperature = datacube['mean_air_temperature']\n",
    "temperature.to_dict()"
   ]
  },
  {
   "cell_type": "code",
   "execution_count": null,
   "id": "09f0c61e-cc8c-438b-83cd-cc2eb0e235b9",
   "metadata": {},
   "outputs": [],
   "source": [
    "temperature.plot()"
   ]
  },
  {
   "cell_type": "markdown",
   "id": "9bc3fe11-9d3e-45ff-9a64-b6fd0db0f519",
   "metadata": {},
   "source": [
    "### Cummulative Variables\n",
    "\n",
    "It is also possible to resample cummulative variables.\n",
    "\n",
    "For example, the value of rainfall is related to the previous day. This means that the midnight of the first day of the next month should represent the cumulative value for the previous month. We can do that:"
   ]
  },
  {
   "cell_type": "code",
   "execution_count": null,
   "id": "24f84e25-f529-42c9-9537-3e3e7dc20fba",
   "metadata": {},
   "outputs": [],
   "source": [
    "request = {\n",
    "    'product_type': 'ensemble-mean',\n",
    "    'variable': 'thickness_of_rainfall_amount',\n",
    "    'area': {'north': 48, 'south': 35, 'east': 20, 'west': 2},\n",
    "    'time': {'start': '2018-01-01', 'stop': '2018-03-31'},\n",
    "    'resample': {'operator': 'sum', 'frequency': '1M', 'closed': 'right'},\n",
    "    'resolution': '0.25',\n",
    "    'version': 'v20.0e',\n",
    "    'format': 'netcdf'\n",
    "}\n",
    "\n",
    "datacube = Client(quiet=True).retrieve(dataset, request)"
   ]
  },
  {
   "cell_type": "code",
   "execution_count": null,
   "id": "40ec27cd-a29e-4dcf-97ff-e45d4ab6f119",
   "metadata": {},
   "outputs": [],
   "source": [
    "rainfall = datacube['thickness_of_rainfall_amount']\n",
    "rainfall"
   ]
  },
  {
   "cell_type": "code",
   "execution_count": null,
   "id": "88030adf-e3ff-4994-816b-6bdf71cd9f08",
   "metadata": {},
   "outputs": [],
   "source": [
    "rainfall.domain.coordinate('time')"
   ]
  },
  {
   "cell_type": "code",
   "execution_count": null,
   "id": "b5a8b8e7-083f-4f94-b380-8b5c7126e81e",
   "metadata": {},
   "outputs": [],
   "source": [
    "rainfall.plot()"
   ]
  },
  {
   "cell_type": "code",
   "execution_count": null,
   "id": "239e8234-8255-4181-95ec-0a01fcd0caf7",
   "metadata": {},
   "outputs": [],
   "source": []
  }
 ],
 "metadata": {
  "kernelspec": {
   "display_name": "Python 3 (ipykernel)",
   "language": "python",
   "name": "python3"
  },
  "language_info": {
   "codemirror_mode": {
    "name": "ipython",
    "version": 3
   },
   "file_extension": ".py",
   "mimetype": "text/x-python",
   "name": "python",
   "nbconvert_exporter": "python",
   "pygments_lexer": "ipython3",
   "version": "3.8.11"
  }
 },
 "nbformat": 4,
 "nbformat_minor": 5
}
