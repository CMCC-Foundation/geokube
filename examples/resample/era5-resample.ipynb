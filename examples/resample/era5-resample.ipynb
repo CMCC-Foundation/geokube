{
 "cells": [
  {
   "cell_type": "markdown",
   "id": "f0df1dc3-e8f5-4657-8f2e-2c280da36ca9",
   "metadata": {},
   "source": [
    "# DDS API Examples for ERA5 Data"
   ]
  },
  {
   "cell_type": "code",
   "execution_count": null,
   "id": "b33dcfc3-5cae-470b-9cd2-8757d017e795",
   "metadata": {},
   "outputs": [],
   "source": [
    "from ddsapi import Client"
   ]
  },
  {
   "cell_type": "code",
   "execution_count": null,
   "id": "b23eb614-a411-4109-90ab-55e83d6c3cbb",
   "metadata": {},
   "outputs": [],
   "source": [
    "dataset = 'era5-single-levels'"
   ]
  },
  {
   "cell_type": "markdown",
   "id": "96b0d719-e5ab-4a59-bad7-3cbc54f2a13b",
   "metadata": {},
   "source": [
    "## Spatial and Temporal Subsetting\n",
    "\n",
    "**Spatial subsetting** can be done as:\n",
    "\n",
    "* **Rectangular area** with the argument `area`\n",
    "* **Single point** with the argument `location`\n",
    "\n",
    "**Temporal Subsetting** can be done with the argument `time` as:\n",
    "\n",
    "* **Cartesian product** of given years, months, days, hours, etc.\n",
    "* **Interval** between predefined `start` and `stop` values"
   ]
  },
  {
   "cell_type": "code",
   "execution_count": null,
   "id": "2484a2d0-9988-4f7b-b145-62557d4ecc98",
   "metadata": {},
   "outputs": [],
   "source": [
    "request = {\n",
    "    'product_type': 'reanalysis',\n",
    "    'variable': [ '2_metre_temperature', 'total_precipitation' ],\n",
    "    'area': {'north': 42, 'south': 39, 'west': 17, 'east': 19},\n",
    "    'time': {'start': '2020-01-01T00', 'stop': '2020-03-31T23'},\n",
    "    'format': 'netcdf'\n",
    "}"
   ]
  },
  {
   "cell_type": "code",
   "execution_count": null,
   "id": "328905b8-0c01-4720-af59-b9596ce6abe7",
   "metadata": {},
   "outputs": [],
   "source": [
    "datacube = Client(quiet=True).retrieve(dataset, request)"
   ]
  },
  {
   "cell_type": "code",
   "execution_count": null,
   "id": "2d2ff5e9-af9f-4f94-8400-fa3e50572998",
   "metadata": {},
   "outputs": [],
   "source": [
    "temperature = datacube['2_metre_temperature']"
   ]
  },
  {
   "cell_type": "code",
   "execution_count": null,
   "id": "5989deca-e696-4269-b55e-53904a660689",
   "metadata": {},
   "outputs": [],
   "source": [
    "temperature.subset(time='2020-01-04T01').plot()"
   ]
  },
  {
   "cell_type": "code",
   "execution_count": null,
   "id": "d92a2859-8965-47e5-9802-1f310bf97807",
   "metadata": {},
   "outputs": [],
   "source": [
    "resample_t = temperature.resample('mean', frequency='1M')\n",
    "resample_t.to_dict()"
   ]
  },
  {
   "cell_type": "code",
   "execution_count": null,
   "id": "d1c4ec87-d3a4-4464-9ba2-7e6e6f8424aa",
   "metadata": {},
   "outputs": [],
   "source": [
    "resample_t.sel(time='2020-01').plot()"
   ]
  },
  {
   "cell_type": "code",
   "execution_count": null,
   "id": "74efa9e0-2391-499e-9893-1a4b6da0eb1b",
   "metadata": {},
   "outputs": [],
   "source": [
    "request = {\n",
    "    'product_type': 'reanalysis',\n",
    "    'variable': 'total_precipitation',\n",
    "    'area': {'north': 42, 'south': 39, 'west': 17, 'east': 19},\n",
    "    'time': {'start': '2020-01-01T01', 'stop': '2020-01-08T00'},\n",
    "    'format': 'netcdf'\n",
    "}"
   ]
  },
  {
   "cell_type": "code",
   "execution_count": null,
   "id": "bced9bda-6283-467b-a75d-9d53af702de8",
   "metadata": {},
   "outputs": [],
   "source": [
    "datacube = Client(quiet=True).retrieve(dataset, request)"
   ]
  },
  {
   "cell_type": "code",
   "execution_count": null,
   "id": "c880696d-82f2-4508-9888-d8aef92c159d",
   "metadata": {},
   "outputs": [],
   "source": [
    "precipitation = datacube['total_precipitation']"
   ]
  },
  {
   "cell_type": "code",
   "execution_count": null,
   "id": "6c248ff3-d36d-43b7-9900-114102c4b5d2",
   "metadata": {},
   "outputs": [],
   "source": [
    "resample_p = precipitation.resample('sum', frequency='1D')\n",
    "resample_p.to_dict()"
   ]
  },
  {
   "cell_type": "code",
   "execution_count": null,
   "id": "b2d59c7d-f8ad-40d3-80b0-ec7dc84e59a6",
   "metadata": {},
   "outputs": [],
   "source": [
    "resample_p.plot()"
   ]
  }
 ],
 "metadata": {
  "kernelspec": {
   "display_name": "Python 3 (ipykernel)",
   "language": "python",
   "name": "python3"
  },
  "language_info": {
   "codemirror_mode": {
    "name": "ipython",
    "version": 3
   },
   "file_extension": ".py",
   "mimetype": "text/x-python",
   "name": "python",
   "nbconvert_exporter": "python",
   "pygments_lexer": "ipython3",
   "version": "3.8.11"
  }
 },
 "nbformat": 4,
 "nbformat_minor": 5
}
