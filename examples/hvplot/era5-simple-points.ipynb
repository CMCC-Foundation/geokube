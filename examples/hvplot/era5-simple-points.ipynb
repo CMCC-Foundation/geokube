{
 "cells": [
  {
   "cell_type": "markdown",
   "id": "d5cecd35-46d4-4a22-a37d-24569407c3d0",
   "metadata": {
    "tags": []
   },
   "source": [
    "# Retrieving and Plotting ERA5 Data"
   ]
  },
  {
   "cell_type": "markdown",
   "id": "9ba18978-ada3-4ba2-9aa3-15813d78a0ce",
   "metadata": {},
   "source": [
    "import numpy as np\n",
    "\n",
    "from ddsapi import Client"
   ]
  },
  {
   "cell_type": "code",
   "execution_count": 2,
   "id": "2dd4ed7a-8f85-47dc-9b5b-226938da81b5",
   "metadata": {},
   "source": [
    "dataset = 'era5-single-levels'\n",
    "request = {\n",
    "    'product_type': 'reanalysis',\n",
    "    'variable': ['2_metre_temperature', 'total_precipitation'],\n",
    "    'area': {'south': 35.0, 'north': 48.0, 'west': 4.0, 'east': 20.0},\n",
    "    'time': {'start': '2019-01-01T06', 'stop': '2019-01-01T11'},\n",
    "    'format': 'netcdf'\n",
    "}\n",
    "\n",
    "cube = Client(quiet=True).retrieve(dataset, request)"
   ],
   "outputs": []
  },
  {
   "cell_type": "code",
   "execution_count": 3,
   "id": "1ee03464-a00e-4ddc-9ed5-e76940d019f3",
   "metadata": {},
   "source": [
    "temperature = cube['t2m']\n",
    "temperature"
   ],
   "outputs": []
  },
  {
   "cell_type": "code",
   "execution_count": 4,
   "id": "964245af-9586-4f13-a77c-b6c13111240f",
   "metadata": {},
   "source": [
    "rng = np.random.default_rng(seed=0)\n",
    "n = 10\n",
    "\n",
    "temperature = temperature.locations(\n",
    "    latitude=rng.uniform(\n",
    "        low=temperature.latitude.values.min(),\n",
    "        high=temperature.latitude.values.max(),\n",
    "        size=n\n",
    "    ),\n",
    "    longitude=rng.uniform(\n",
    "        low=temperature.longitude.values.min(),\n",
    "        high=temperature.longitude.values.max(),\n",
    "        size=n\n",
    "    )\n",
    ")\n",
    "temperature"
   ],
   "outputs": []
  },
  {
   "cell_type": "code",
   "execution_count": 5,
   "id": "6acc8cea-addf-4fb6-ba79-fff3cf66ae3f",
   "metadata": {},
   "source": [
    "temperature.hvplot(aspect='points')"
   ],
   "outputs": []
  },
  {
   "cell_type": "code",
   "execution_count": 6,
   "id": "d2642347-429c-487d-af35-8631656b8288",
   "metadata": {},
   "source": [
    "temperature.hvplot(aspect='time_series')"
   ],
   "outputs": []
  },
  {
   "cell_type": "code",
   "execution_count": null,
   "id": "850edbe4-b74d-410f-b8bd-b1964371afca",
   "metadata": {},
   "source": [],
   "outputs": []
  }
 ],
 "metadata": {
  "kernelspec": {
   "display_name": "Python 3 (ms-cube)",
   "language": "python",
   "name": "ms-cube"
  },
  "language_info": {
   "codemirror_mode": {
    "name": "ipython",
    "version": 3
   },
   "file_extension": ".py",
   "mimetype": "text/x-python",
   "name": "python",
   "nbconvert_exporter": "python",
   "pygments_lexer": "ipython3",
   "version": "3.9.12"
  }
 },
 "nbformat": 4,
 "nbformat_minor": 5
}
