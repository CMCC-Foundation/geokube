{
 "cells": [
  {
   "cell_type": "markdown",
   "id": "d5cecd35-46d4-4a22-a37d-24569407c3d0",
   "metadata": {},
   "source": [
    "# Retrieving and Plotting ERA5 Data"
   ]
  },
  {
   "cell_type": "code",
   "execution_count": 1,
   "id": "5e11160d-eb0b-42d0-87f7-520b054e4a38",
   "metadata": {},
   "outputs": [],
   "source": [
    "from ddsapi import Client"
   ]
  },
  {
   "cell_type": "code",
   "execution_count": null,
   "id": "2dd4ed7a-8f85-47dc-9b5b-226938da81b5",
   "metadata": {},
   "outputs": [
    {
     "name": "stderr",
     "output_type": "stream",
     "text": [
      "Recovering from HTTP error [500 Internal Server Error], attemps 0 of 500\n",
      "Retrying in 120 seconds\n"
     ]
    }
   ],
   "source": [
    "dataset = 'era5-single-levels'\n",
    "request = {\n",
    "    'product_type': 'reanalysis',\n",
    "    'variable': ['2_metre_temperature', 'total_precipitation'],\n",
    "    'area': {'south': 35.0, 'north': 48.0, 'west': 4.0, 'east': 20.0},\n",
    "    'time': {'start': '2019-01-01T06', 'stop': '2019-01-01T11'},\n",
    "    'format': 'netcdf'\n",
    "}\n",
    "\n",
    "cube = Client(quiet=True).retrieve(dataset, request)"
   ]
  },
  {
   "cell_type": "code",
   "execution_count": null,
   "id": "1ee03464-a00e-4ddc-9ed5-e76940d019f3",
   "metadata": {},
   "outputs": [],
   "source": [
    "temperature = cube['t2m']\n",
    "temperature"
   ]
  },
  {
   "cell_type": "code",
   "execution_count": null,
   "id": "94da6306-42e9-492f-b5d4-f553f4ab48df",
   "metadata": {},
   "outputs": [],
   "source": [
    "temperature.plot()"
   ]
  },
  {
   "cell_type": "code",
   "execution_count": null,
   "id": "92602e1d-e789-4203-8c09-7a769192fd45",
   "metadata": {},
   "outputs": [],
   "source": [
    "temperature.plot(col_wrap=3)"
   ]
  },
  {
   "cell_type": "code",
   "execution_count": null,
   "id": "7be65ad8-8d8c-494c-b71b-62c6c96966cd",
   "metadata": {},
   "outputs": [],
   "source": [
    "temperature.plot(features=('coastline', 'borders', 'lakes', 'rivers'))"
   ]
  },
  {
   "cell_type": "code",
   "execution_count": null,
   "id": "971c414c-d9eb-406b-8a66-7c05af76223b",
   "metadata": {},
   "outputs": [],
   "source": [
    "temperature.plot(\n",
    "    features=('coastline', 'borders', 'lakes', 'rivers'),\n",
    "    figsize=(18, 10),\n",
    "    col_wrap=3,\n",
    "    robust=True\n",
    ")"
   ]
  },
  {
   "cell_type": "code",
   "execution_count": null,
   "id": "850edbe4-b74d-410f-b8bd-b1964371afca",
   "metadata": {},
   "outputs": [],
   "source": []
  }
 ],
 "metadata": {
  "kernelspec": {
   "display_name": "Python 3 (ms-hpc)",
   "language": "python",
   "name": "ms-hpc"
  },
  "language_info": {
   "codemirror_mode": {
    "name": "ipython",
    "version": 3
   },
   "file_extension": ".py",
   "mimetype": "text/x-python",
   "name": "python",
   "nbconvert_exporter": "python",
   "pygments_lexer": "ipython3",
   "version": "3.9.7"
  }
 },
 "nbformat": 4,
 "nbformat_minor": 5
}
