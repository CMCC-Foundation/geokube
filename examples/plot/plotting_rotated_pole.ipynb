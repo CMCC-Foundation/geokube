{
 "cells": [
  {
   "cell_type": "markdown",
   "id": "be08a893-5413-491d-8344-2ee0aec47feb",
   "metadata": {
    "tags": []
   },
   "source": [
    "# Plotting Data with Rotated Pole"
   ]
  },
  {
   "cell_type": "code",
   "execution_count": 1,
   "id": "c8415902-b2ec-4bf3-9357-620b36af0232",
   "metadata": {},
   "outputs": [],
   "source": [
    "from ddsapi import Client"
   ]
  },
  {
   "cell_type": "code",
   "execution_count": null,
   "id": "b5c035ff-2a29-4bea-9078-39a7ca7fb353",
   "metadata": {},
   "outputs": [],
   "source": [
    "dataset = 'era5-downscaled-over-italy'\n",
    "request = {\n",
    "    'product_type': 'VHR-REA_IT_1989_2020_hourly',\n",
    "    'time': {'year': 2009, 'month': 5, 'day': 29, 'hour': 16},\n",
    "    'variable': 'min_air_temperature',\n",
    "    'format': 'netcdf'\n",
    "}\n",
    "cube = Client(quiet=True).retrieve(dataset, request)\n",
    "temperature = cube['air_temperature']\n",
    "\n",
    "temperature"
   ]
  },
  {
   "cell_type": "code",
   "execution_count": null,
   "id": "e8d5813b-936f-4396-a458-a08efb055b0d",
   "metadata": {},
   "outputs": [],
   "source": [
    "temperature.domain.crs"
   ]
  },
  {
   "cell_type": "code",
   "execution_count": null,
   "id": "3123529e-1048-4d86-8d57-8aa7f93eaa74",
   "metadata": {},
   "outputs": [],
   "source": [
    "temperature.plot()"
   ]
  },
  {
   "cell_type": "code",
   "execution_count": null,
   "id": "bae17569-dab8-48a6-96ac-589481502fc5",
   "metadata": {},
   "outputs": [],
   "source": [
    "temperature.plot(robust=True)"
   ]
  },
  {
   "cell_type": "code",
   "execution_count": null,
   "id": "95856c42-9907-4413-aa2f-4fde080fde4c",
   "metadata": {},
   "outputs": [],
   "source": [
    "temperature.plot(features=['coastline'], robust=True)"
   ]
  },
  {
   "cell_type": "code",
   "execution_count": null,
   "id": "51c822a4-8881-4985-8180-9f073018a055",
   "metadata": {},
   "outputs": [],
   "source": []
  }
 ],
 "metadata": {
  "kernelspec": {
   "display_name": "Python 3 (ms-hpc)",
   "language": "python",
   "name": "ms-hpc"
  },
  "language_info": {
   "codemirror_mode": {
    "name": "ipython",
    "version": 3
   },
   "file_extension": ".py",
   "mimetype": "text/x-python",
   "name": "python",
   "nbconvert_exporter": "python",
   "pygments_lexer": "ipython3",
   "version": "3.9.7"
  }
 },
 "nbformat": 4,
 "nbformat_minor": 5
}
