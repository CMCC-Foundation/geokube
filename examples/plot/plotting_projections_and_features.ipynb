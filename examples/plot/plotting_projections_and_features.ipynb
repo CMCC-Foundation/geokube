{
 "cells": [
  {
   "cell_type": "markdown",
   "id": "d481901d-e282-4b7b-9a98-0eb8c10f5635",
   "metadata": {
    "tags": []
   },
   "source": [
    "# Plotting Data with Projections and Cartopy Features"
   ]
  },
  {
   "cell_type": "code",
   "execution_count": 1,
   "id": "1f56e61f-9380-4a3b-9386-87f0247978fe",
   "metadata": {},
   "outputs": [],
   "source": [
    "import os\n",
    "\n",
    "from ddsapi import Client\n",
    "from geokube import RotatedGeogCS"
   ]
  },
  {
   "cell_type": "markdown",
   "id": "1a63ebae-9588-4c2c-8faa-94db0d1ba6c3",
   "metadata": {},
   "source": [
    "### Retrieving Data"
   ]
  },
  {
   "cell_type": "markdown",
   "id": "7201376e-802c-48e2-a826-7fba623c0187",
   "metadata": {},
   "source": [
    "In this example, data are retrieved with DDS API:"
   ]
  },
  {
   "cell_type": "code",
   "execution_count": null,
   "id": "54c92bbb-85ca-43ff-9250-850a9af0cc70",
   "metadata": {},
   "outputs": [],
   "source": [
    "dataset = 'e-obs'\n",
    "request = {\n",
    "    'product_type': 'ensemble-mean',\n",
    "    'variable': 'air_pressure_at_sea_level',\n",
    "    'time': {'start': '2012-01-01', 'stop': '2012-01-02'},\n",
    "    'area': {'south': 35.0, 'north': 48.0, 'west': 4.0, 'east': 20.0},\n",
    "    'version': 'v20.0e',\n",
    "    'resolution': '0.25',\n",
    "    'format': 'netcdf'\n",
    "}\n",
    "\n",
    "cube = Client(quiet=True).retrieve(name=dataset, request=request)"
   ]
  },
  {
   "cell_type": "code",
   "execution_count": null,
   "id": "cf81f7e2-c116-4c9b-9acc-86869037226c",
   "metadata": {},
   "outputs": [],
   "source": [
    "pressure = cube['air_pressure_at_sea_level']\n",
    "pressure"
   ]
  },
  {
   "cell_type": "code",
   "execution_count": null,
   "id": "16b8925e-29e7-4ba2-986a-96f1b35183fc",
   "metadata": {},
   "outputs": [],
   "source": [
    "pressure.domain.crs"
   ]
  },
  {
   "cell_type": "markdown",
   "id": "05becd37-1646-4a3d-b946-7dce71712ef7",
   "metadata": {},
   "source": [
    "### Basic Ploting"
   ]
  },
  {
   "cell_type": "markdown",
   "id": "881c4f59-264c-4015-a6a3-45bcb1761a12",
   "metadata": {},
   "source": [
    "Calling `.plot()` on a field (like pressure in this case) should be good enough in many cases:"
   ]
  },
  {
   "cell_type": "code",
   "execution_count": null,
   "id": "fba3daa4-243b-45b7-9072-d5fbfcfb350d",
   "metadata": {},
   "outputs": [],
   "source": [
    "pressure.plot()"
   ]
  },
  {
   "cell_type": "markdown",
   "id": "09ec7ffa-b966-4be2-b32a-262b2574b2fa",
   "metadata": {},
   "source": [
    "### Projections"
   ]
  },
  {
   "cell_type": "markdown",
   "id": "e90dd558-c310-4cf8-bafc-06107be1ac52",
   "metadata": {},
   "source": [
    "The `projection` argument is used when creating plots and determines the projection of the resulting plot (i.e. what the plot looks like).\n",
    "\n",
    "The `transform` argument to plotting functions tells Cartopy what coordinate system the data are defined in. This argument cannot be passed explicitly. It is deduced form the field itself."
   ]
  },
  {
   "cell_type": "code",
   "execution_count": null,
   "id": "35277e42-929a-483c-92f7-dbbfbd4f57aa",
   "metadata": {},
   "outputs": [],
   "source": [
    "rpole = RotatedGeogCS(\n",
    "    grid_north_pole_longitude=-120.0,\n",
    "    grid_north_pole_latitude=40.0\n",
    ")\n",
    "\n",
    "pressure.plot(projection=rpole, gridlines=False)"
   ]
  },
  {
   "cell_type": "markdown",
   "id": "94996b6f-63e0-48e8-afc4-65ea237f31e2",
   "metadata": {},
   "source": [
    "### Gridlines and Features"
   ]
  },
  {
   "cell_type": "markdown",
   "id": "934f532c-bf88-449e-bc59-be1a1dc753dc",
   "metadata": {},
   "source": [
    "When `projection` is specified, it is possible to add:\n",
    "\n",
    "* **Gridlines** with or without labels using `gridlines` and `gridline_labels`\n",
    "* **Cartopy features** using `features` including:\n",
    "  * Borders\n",
    "  * Coastline\n",
    "  * Lakes\n",
    "  * Land\n",
    "  * Ocean\n",
    "  * Rivers\n",
    "  * States"
   ]
  },
  {
   "cell_type": "code",
   "execution_count": null,
   "id": "dfd3bdc3-a5e2-4616-a69d-cef3c77a5f0e",
   "metadata": {},
   "outputs": [],
   "source": [
    "pressure.plot(projection=rpole, gridlines=True, gridline_labels=True)"
   ]
  },
  {
   "cell_type": "code",
   "execution_count": null,
   "id": "0f137525-34bb-49b8-a24f-72598faee2ef",
   "metadata": {},
   "outputs": [],
   "source": [
    "features = (\n",
    "    'borders', 'coastline', 'lakes', 'land', 'ocean', 'rivers', 'states'\n",
    ")\n",
    "pressure.plot(\n",
    "    projection=rpole, gridlines=True, gridline_labels=True, features=features\n",
    ")"
   ]
  },
  {
   "cell_type": "markdown",
   "id": "eeda52e4-2752-414b-a110-7ede2c43ea15",
   "metadata": {},
   "source": [
    "### Figure Size and Additional Properties"
   ]
  },
  {
   "cell_type": "markdown",
   "id": "e85dd74a-c905-4025-8cd5-102e6956876f",
   "metadata": {},
   "source": [
    "The size of the figure can be controlled with `figsize`."
   ]
  },
  {
   "cell_type": "code",
   "execution_count": null,
   "id": "a06da8b5-3769-435f-8304-b304456f03a8",
   "metadata": {},
   "outputs": [],
   "source": [
    "pressure.plot(\n",
    "    projection=rpole, gridlines=True, gridline_labels=True, features=features,\n",
    "    figsize=(20, 6)\n",
    ")"
   ]
  },
  {
   "cell_type": "markdown",
   "id": "a0d7462d-cc43-4dd4-96fa-31c484bdba87",
   "metadata": {},
   "source": [
    "Additional arguments can be passed to `matplotlib` subplots with `subplot_kwargs`:"
   ]
  },
  {
   "cell_type": "code",
   "execution_count": null,
   "id": "f99b5bfa-243a-48eb-8312-3fa29bcc9dc3",
   "metadata": {},
   "outputs": [],
   "source": [
    "pressure.plot(\n",
    "    projection=rpole, gridlines=True, gridline_labels=True, figsize=(20, 6),\n",
    "    subplot_kwargs={'facecolor': 'gray'}\n",
    ")"
   ]
  },
  {
   "cell_type": "markdown",
   "id": "2dea78c3-01e3-43c2-a702-d872b59ed8ae",
   "metadata": {},
   "source": [
    "Additional arguments can be passed to `matplotlib` as keyword arguments."
   ]
  },
  {
   "cell_type": "code",
   "execution_count": null,
   "id": "49ba07f2-0379-4209-80d0-facd685dbe6e",
   "metadata": {},
   "outputs": [],
   "source": [
    "pressure.plot(projection=rpole, figsize=(20, 6), cmap='coolwarm')"
   ]
  },
  {
   "cell_type": "markdown",
   "id": "6b902aa8-f65d-42c4-8821-798f9e646dca",
   "metadata": {},
   "source": [
    "The argument `robust=True` can be used to get better color gradients since it represents narrower interval of values — between the 2nd and 98th percentiles."
   ]
  },
  {
   "cell_type": "code",
   "execution_count": null,
   "id": "6cab05f7-409c-454c-bf16-6cab3f1e54b9",
   "metadata": {},
   "outputs": [],
   "source": [
    "pressure.plot(\n",
    "    projection=rpole, gridlines=True, gridline_labels=True, figsize=(20, 6),\n",
    "    robust=True\n",
    ")"
   ]
  },
  {
   "cell_type": "code",
   "execution_count": null,
   "id": "dd7862c1-ddb0-4ef6-b63e-291217ae403e",
   "metadata": {},
   "outputs": [],
   "source": []
  }
 ],
 "metadata": {
  "kernelspec": {
   "display_name": "Python 3 (ms-hpc)",
   "language": "python",
   "name": "ms-hpc"
  },
  "language_info": {
   "codemirror_mode": {
    "name": "ipython",
    "version": 3
   },
   "file_extension": ".py",
   "mimetype": "text/x-python",
   "name": "python",
   "nbconvert_exporter": "python",
   "pygments_lexer": "ipython3",
   "version": "3.9.7"
  }
 },
 "nbformat": 4,
 "nbformat_minor": 5
}
