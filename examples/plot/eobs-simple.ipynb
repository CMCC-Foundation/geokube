{
 "cells": [
  {
   "cell_type": "markdown",
   "id": "d5cecd35-46d4-4a22-a37d-24569407c3d0",
   "metadata": {
    "tags": []
   },
   "source": [
    "# Retrieving and Plotting E-OBS Data"
   ]
  },
  {
   "cell_type": "code",
   "execution_count": 1,
   "id": "5e11160d-eb0b-42d0-87f7-520b054e4a38",
   "metadata": {},
   "outputs": [],
   "source": [
    "from ddsapi import Client"
   ]
  },
  {
   "cell_type": "code",
   "execution_count": null,
   "id": "2dd4ed7a-8f85-47dc-9b5b-226938da81b5",
   "metadata": {},
   "outputs": [],
   "source": [
    "dataset = 'e-obs'\n",
    "request = {\n",
    "    'product_type': 'ensemble-mean',\n",
    "    'variable': 'air_pressure_at_sea_level',\n",
    "    'time': {'year': 1978, 'month': 1, 'day': [1, 2, 3]},\n",
    "    'version': 'v20.0e',\n",
    "    'resolution': '0.25',\n",
    "    'format': 'netcdf'\n",
    "}\n",
    "\n",
    "cube = Client(quiet=True).retrieve(dataset, request)"
   ]
  },
  {
   "cell_type": "code",
   "execution_count": null,
   "id": "1ee03464-a00e-4ddc-9ed5-e76940d019f3",
   "metadata": {},
   "outputs": [],
   "source": [
    "pressure = cube['air_pressure_at_sea_level']\n",
    "pressure"
   ]
  },
  {
   "cell_type": "code",
   "execution_count": null,
   "id": "be82ef24-f671-4576-b743-9777ed112dc7",
   "metadata": {},
   "outputs": [],
   "source": [
    "pressure.plot()"
   ]
  },
  {
   "cell_type": "code",
   "execution_count": null,
   "id": "e7a9d20b-e447-4b28-9eb4-f1a0a075d254",
   "metadata": {},
   "outputs": [],
   "source": [
    "pressure.plot(features=('coastline', 'borders', 'lakes', 'rivers'))"
   ]
  },
  {
   "cell_type": "code",
   "execution_count": null,
   "id": "53cc67c0-11c1-428c-beac-b100904451b7",
   "metadata": {},
   "outputs": [],
   "source": [
    "pressure.plot(\n",
    "    features=('coastline', 'borders', 'lakes', 'rivers'),\n",
    "    figsize=(20, 3),\n",
    "    robust=True\n",
    ")"
   ]
  },
  {
   "cell_type": "code",
   "execution_count": null,
   "id": "1ce3dfdb-2ea2-44e0-b0b5-65060520da49",
   "metadata": {},
   "outputs": [],
   "source": []
  }
 ],
 "metadata": {
  "kernelspec": {
   "display_name": "Python 3 (ms-hpc)",
   "language": "python",
   "name": "ms-hpc"
  },
  "language_info": {
   "codemirror_mode": {
    "name": "ipython",
    "version": 3
   },
   "file_extension": ".py",
   "mimetype": "text/x-python",
   "name": "python",
   "nbconvert_exporter": "python",
   "pygments_lexer": "ipython3",
   "version": "3.9.7"
  }
 },
 "nbformat": 4,
 "nbformat_minor": 5
}
